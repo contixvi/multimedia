{
 "cells": [
  {
   "cell_type": "code",
   "execution_count": 2,
   "id": "5e150649",
   "metadata": {},
   "outputs": [],
   "source": [
    "from PIL import Image\n",
    "\n",
    "def convert_to_grayscale(image_path, output_path):\n",
    "  \"\"\"Converts a JPEG image to grayscale and saves it.\n",
    "\n",
    "  Args:\n",
    "    image_path: Path to the input JPEG image.\n",
    "    output_path: Path to save the grayscale image.\n",
    "  \"\"\"\n",
    "  img = Image.open(image_path).convert('L')  # Convert to grayscale mode 'L'\n",
    "  img.save(output_path)\n",
    "\n",
    "# Example usage\n",
    "image_path = \"transformed.jpeg\"\n",
    "output_path = \"grayscale_image-A.jpg\"\n",
    "convert_to_grayscale(image_path, output_path)\n"
   ]
  },
  {
   "cell_type": "code",
   "execution_count": 3,
   "id": "c5750b91",
   "metadata": {},
   "outputs": [],
   "source": [
    "import cv2\n",
    "\n",
    "def convert_to_grayscale(image_path, output_path):\n",
    "  \"\"\"Converts a JPEG image to grayscale and saves it.\n",
    "\n",
    "  Args:\n",
    "    image_path: Path to the input JPEG image.\n",
    "    output_path: Path to save the grayscale image.\n",
    "  \"\"\"\n",
    "  img = cv2.imread(image_path)\n",
    "  grayscale_img = cv2.cvtColor(img, cv2.COLOR_BGR2GRAY)  # BGR to grayscale\n",
    "  cv2.imwrite(output_path, grayscale_img)\n",
    "\n",
    "# Example usage\n",
    "image_path = \"pix.jpg\"\n",
    "output_path = \"grayscale_image_cv-A.jpg\"\n",
    "convert_to_grayscale(image_path, output_path)\n"
   ]
  },
  {
   "cell_type": "code",
   "execution_count": 4,
   "id": "cd169c66",
   "metadata": {},
   "outputs": [
    {
     "name": "stdout",
     "output_type": "stream",
     "text": [
      "Image processing completed!\n"
     ]
    }
   ],
   "source": [
    "from PIL import Image\n",
    "\n",
    "def convert_to_grayscale(image_path, output_path):\n",
    "    \"\"\"Converts an image to grayscale and saves it.\n",
    "\n",
    "    Args:\n",
    "        image_path (str): Path to the input image.\n",
    "        output_path (str): Path to save the grayscale image.\n",
    "    \"\"\"\n",
    "\n",
    "    img = Image.open(image_path)\n",
    "\n",
    "    # Check for and convert RGBA mode before saving\n",
    "    if img.mode == 'RGBA':\n",
    "        img = img.convert('RGB')\n",
    "\n",
    "    img.convert('L').save(output_path)  # Convert to grayscale and save\n",
    "\n",
    "def crop_image(image_path, crop_box, output_path):\n",
    "    \"\"\"Crops an image based on the provided bounding box and saves it.\n",
    "\n",
    "    Args:\n",
    "        image_path (str): Path to the input image.\n",
    "        crop_box (tuple): A 4-tuple representing the top-left,\n",
    "                          bottom-right coordinates of the crop area (left, upper, right, lower).\n",
    "        output_path (str): Path to save the cropped image.\n",
    "    \"\"\"\n",
    "\n",
    "    img = Image.open(image_path)\n",
    "    cropped_img = img.crop(crop_box)\n",
    "\n",
    "    # Check for and convert RGBA mode before saving\n",
    "    if cropped_img.mode == 'RGBA':\n",
    "        cropped_img = cropped_img.convert('RGB')\n",
    "\n",
    "    cropped_img.save(output_path)\n",
    "\n",
    "# Example usage (grayscale conversion)\n",
    "#image_path = \"image.jpg\"\n",
    "#output_path = \"grayscale_image_test.jpg\"\n",
    "#convert_to_grayscale(image_path, output_path)\n",
    "\n",
    "# Example usage (cropping)\n",
    "image_path = \"pix.jpg\"\n",
    "crop_box = (300, 300, 900, 1500)\n",
    "output_path = \"cropped_image-A.jpg\"\n",
    "crop_image(image_path, crop_box, output_path)\n",
    "\n",
    "print(\"Image processing completed!\")\n",
    "\n"
   ]
  },
  {
   "cell_type": "code",
   "execution_count": 11,
   "id": "32bfdc0a",
   "metadata": {},
   "outputs": [
    {
     "name": "stdout",
     "output_type": "stream",
     "text": [
      "No more frames to read\n",
      "Extracted 182 frames\n"
     ]
    }
   ],
   "source": [
    "import cv2\n",
    "\n",
    "# Replace 'your_video.mp4' with the path to your video file\n",
    "video_path = 'IMG_8511.MOV'\n",
    "\n",
    "# Create a video capture object\n",
    "cap = cv2.VideoCapture(video_path)\n",
    "\n",
    "# Check if video opened successfully\n",
    "if not cap.isOpened():\n",
    "    print(\"Error opening video stream or file\")\n",
    "\n",
    "# Define a frame counter\n",
    "frame_count = 0\n",
    "\n",
    "# Loop through frames\n",
    "while True:\n",
    "    # Capture frame-by-frame\n",
    "    ret, frame = cap.read()\n",
    "\n",
    "    # Check if the frame was read successfully\n",
    "    if not ret:\n",
    "        print(\"No more frames to read\")\n",
    "        break\n",
    "\n",
    "    # Save the frame as an image (replace 'frame_%05d.jpg' with your desired naming convention)\n",
    "    filename = f'frame_{frame_count:05d}.jpg'\n",
    "    cv2.imwrite(filename, frame)\n",
    "\n",
    "    # Increase frame counter\n",
    "    frame_count += 1\n",
    "\n",
    "# Release the capture and close all windows\n",
    "cap.release()\n",
    "cv2.destroyAllWindows()\n",
    "\n",
    "print(f'Extracted {frame_count} frames')\n",
    "\n"
   ]
  },
  {
   "cell_type": "code",
   "execution_count": null,
   "id": "a3e728c0",
   "metadata": {},
   "outputs": [],
   "source": []
  }
 ],
 "metadata": {
  "kernelspec": {
   "display_name": "Python 3 (ipykernel)",
   "language": "python",
   "name": "python3"
  },
  "language_info": {
   "codemirror_mode": {
    "name": "ipython",
    "version": 3
   },
   "file_extension": ".py",
   "mimetype": "text/x-python",
   "name": "python",
   "nbconvert_exporter": "python",
   "pygments_lexer": "ipython3",
   "version": "3.11.7"
  }
 },
 "nbformat": 4,
 "nbformat_minor": 5
}
